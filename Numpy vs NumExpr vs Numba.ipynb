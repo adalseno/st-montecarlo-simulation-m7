{
 "cells": [
  {
   "cell_type": "markdown",
   "id": "0f4042e2-f240-40d0-a79c-c22f93124287",
   "metadata": {},
   "source": [
    "# Comparison among numpy, numexpr, and numba"
   ]
  },
  {
   "cell_type": "code",
   "execution_count": 26,
   "id": "082e16db-e90f-40b9-ad22-6f4c77afbcfb",
   "metadata": {},
   "outputs": [],
   "source": [
    "import numpy as np\n",
    "import numexpr as ne\n",
    "import pandas as pd\n",
    "from numba import jit\n",
    "import time\n",
    "from tqdm.notebook import tqdm\n",
    "import matplotlib.pyplot as plt\n",
    "from IPython.display import display_html"
   ]
  },
  {
   "cell_type": "code",
   "execution_count": 2,
   "id": "51eadf79-70c2-45bf-9fb4-55b5563589c9",
   "metadata": {},
   "outputs": [],
   "source": [
    "# Timing function (using timeit module does not provide relaible performances)\n",
    "def test_time(func):\n",
    "    trial_range = list(map(lambda x: int(np.power(10, x)), range(2, 8)))\n",
    "    ret_dict = {}\n",
    "    number = 50 # make 50 tests\n",
    "    for trials in tqdm(trial_range):\n",
    "        times = []\n",
    "        for i in tqdm(range(number)):\n",
    "            start = time.time()\n",
    "            func(trials)\n",
    "            stop = time.time()\n",
    "            times.append(stop-start)\n",
    "        ret_dict[trials] = times\n",
    "    return ret_dict"
   ]
  },
  {
   "cell_type": "markdown",
   "id": "5b507e62-bb29-41cf-8094-7c76102cbfc3",
   "metadata": {},
   "source": [
    "## Test numpy"
   ]
  },
  {
   "cell_type": "code",
   "execution_count": 3,
   "id": "808f47ac-b2c1-40f7-bedf-6cec96e4a622",
   "metadata": {},
   "outputs": [],
   "source": [
    "def Hist_numpy(trials: int) -> np.array:\n",
    "\n",
    "   # Vectorized version, much faster (Annual interest from 40% to 70% random normal)\n",
    "    distribution = 1 + np.random.normal(0.4, 0.7, (12, trials)) / 12\n",
    "    interest = np.array([range(12, 0, -1)]).T\n",
    "    res = (10 * np.power(distribution,interest)).sum(axis=0)\n",
    "    \n",
    "    return res"
   ]
  },
  {
   "cell_type": "code",
   "execution_count": 4,
   "id": "3911f67e-8326-478d-ab65-0e51083b68e5",
   "metadata": {},
   "outputs": [
    {
     "data": {
      "application/vnd.jupyter.widget-view+json": {
       "model_id": "edd91d6739504855981ffb8b81705225",
       "version_major": 2,
       "version_minor": 0
      },
      "text/plain": [
       "  0%|          | 0/6 [00:00<?, ?it/s]"
      ]
     },
     "metadata": {},
     "output_type": "display_data"
    },
    {
     "data": {
      "application/vnd.jupyter.widget-view+json": {
       "model_id": "0375bffb70174a0280c5df47231ac431",
       "version_major": 2,
       "version_minor": 0
      },
      "text/plain": [
       "  0%|          | 0/50 [00:00<?, ?it/s]"
      ]
     },
     "metadata": {},
     "output_type": "display_data"
    },
    {
     "data": {
      "application/vnd.jupyter.widget-view+json": {
       "model_id": "4036e70515c34336831893790a46196f",
       "version_major": 2,
       "version_minor": 0
      },
      "text/plain": [
       "  0%|          | 0/50 [00:00<?, ?it/s]"
      ]
     },
     "metadata": {},
     "output_type": "display_data"
    },
    {
     "data": {
      "application/vnd.jupyter.widget-view+json": {
       "model_id": "f6c934f869044ad3aea8b026b1602c6a",
       "version_major": 2,
       "version_minor": 0
      },
      "text/plain": [
       "  0%|          | 0/50 [00:00<?, ?it/s]"
      ]
     },
     "metadata": {},
     "output_type": "display_data"
    },
    {
     "data": {
      "application/vnd.jupyter.widget-view+json": {
       "model_id": "2a8ada42677f41e6b8a1224d577d7d94",
       "version_major": 2,
       "version_minor": 0
      },
      "text/plain": [
       "  0%|          | 0/50 [00:00<?, ?it/s]"
      ]
     },
     "metadata": {},
     "output_type": "display_data"
    },
    {
     "data": {
      "application/vnd.jupyter.widget-view+json": {
       "model_id": "b9bde60f8dd742b8a21018711ce37790",
       "version_major": 2,
       "version_minor": 0
      },
      "text/plain": [
       "  0%|          | 0/50 [00:00<?, ?it/s]"
      ]
     },
     "metadata": {},
     "output_type": "display_data"
    },
    {
     "data": {
      "application/vnd.jupyter.widget-view+json": {
       "model_id": "b3bf839394ac4e1d9b9bd639938c6af9",
       "version_major": 2,
       "version_minor": 0
      },
      "text/plain": [
       "  0%|          | 0/50 [00:00<?, ?it/s]"
      ]
     },
     "metadata": {},
     "output_type": "display_data"
    }
   ],
   "source": [
    "numpy_timing = test_time(Hist_numpy)"
   ]
  },
  {
   "cell_type": "code",
   "execution_count": 5,
   "id": "e1ac8ff7-762d-4a8f-a51b-88eb6c451de9",
   "metadata": {},
   "outputs": [],
   "source": [
    "# Get mean and std for each set of iterations\n",
    "df = pd.DataFrame(numpy_timing)\n",
    "numpy_df = pd.concat([pd.Series(df.mean(), name=\"numpy_mean\"), pd.Series(df.std(), name=\"numpy_std\")],axis=1)"
   ]
  },
  {
   "cell_type": "markdown",
   "id": "3e2744f1-1efe-42ca-b330-fd6df83311fc",
   "metadata": {},
   "source": [
    "## Test numexpr"
   ]
  },
  {
   "cell_type": "code",
   "execution_count": 8,
   "id": "0dcc2442-000d-4e36-8b63-1bed01532473",
   "metadata": {},
   "outputs": [],
   "source": [
    "# Helper function that creates distribution and statistics\n",
    "def Hist_numexpr(trials: int) -> np.array:\n",
    "\n",
    "    # Vectorized version, much faster (Annual interest from 40% to 70% random normal)\n",
    "    distribution = 1 + np.random.normal(0.4, 0.7, (12, trials)) / 12\n",
    "    interest = np.array([range(12, 0, -1)]).T\n",
    "    res = ne.evaluate(\"sum(10*(distribution**interest),axis=0)\")\n",
    "\n",
    "    return res"
   ]
  },
  {
   "cell_type": "code",
   "execution_count": 9,
   "id": "17fe7b17-4b46-4e30-89bc-e9962cdfb6cd",
   "metadata": {},
   "outputs": [
    {
     "data": {
      "application/vnd.jupyter.widget-view+json": {
       "model_id": "d76c012b41c9480b9a8459b046765b48",
       "version_major": 2,
       "version_minor": 0
      },
      "text/plain": [
       "  0%|          | 0/6 [00:00<?, ?it/s]"
      ]
     },
     "metadata": {},
     "output_type": "display_data"
    },
    {
     "data": {
      "application/vnd.jupyter.widget-view+json": {
       "model_id": "053e97d5a7984f3cbd76a11c06c05c03",
       "version_major": 2,
       "version_minor": 0
      },
      "text/plain": [
       "  0%|          | 0/50 [00:00<?, ?it/s]"
      ]
     },
     "metadata": {},
     "output_type": "display_data"
    },
    {
     "data": {
      "application/vnd.jupyter.widget-view+json": {
       "model_id": "4cdede1dc23d400da8a659e43c0386fc",
       "version_major": 2,
       "version_minor": 0
      },
      "text/plain": [
       "  0%|          | 0/50 [00:00<?, ?it/s]"
      ]
     },
     "metadata": {},
     "output_type": "display_data"
    },
    {
     "data": {
      "application/vnd.jupyter.widget-view+json": {
       "model_id": "d0d8d3e4f6074787b3d228e8d4346645",
       "version_major": 2,
       "version_minor": 0
      },
      "text/plain": [
       "  0%|          | 0/50 [00:00<?, ?it/s]"
      ]
     },
     "metadata": {},
     "output_type": "display_data"
    },
    {
     "data": {
      "application/vnd.jupyter.widget-view+json": {
       "model_id": "92967cd031bd47dab2f2af7310c969be",
       "version_major": 2,
       "version_minor": 0
      },
      "text/plain": [
       "  0%|          | 0/50 [00:00<?, ?it/s]"
      ]
     },
     "metadata": {},
     "output_type": "display_data"
    },
    {
     "data": {
      "application/vnd.jupyter.widget-view+json": {
       "model_id": "5c887f3469ef45849c42b3e1d0fa028b",
       "version_major": 2,
       "version_minor": 0
      },
      "text/plain": [
       "  0%|          | 0/50 [00:00<?, ?it/s]"
      ]
     },
     "metadata": {},
     "output_type": "display_data"
    },
    {
     "data": {
      "application/vnd.jupyter.widget-view+json": {
       "model_id": "7814a2b7fd624638972a0ba1f748b194",
       "version_major": 2,
       "version_minor": 0
      },
      "text/plain": [
       "  0%|          | 0/50 [00:00<?, ?it/s]"
      ]
     },
     "metadata": {},
     "output_type": "display_data"
    }
   ],
   "source": [
    "numexpr_timing = test_time(Hist_numexpr)"
   ]
  },
  {
   "cell_type": "code",
   "execution_count": 15,
   "id": "b9042715-9fee-47ef-b9b4-4d7bc9d1b7e8",
   "metadata": {},
   "outputs": [],
   "source": [
    "df = pd.DataFrame(numexpr_timing)\n",
    "numexpr_df = pd.concat([pd.Series(df.mean(), name=\"numexpr_mean\"), pd.Series(df.std(), name=\"numexpr_std\")],axis=1)"
   ]
  },
  {
   "cell_type": "markdown",
   "id": "c421ba6c-290a-46e8-b08a-cd7162fb98cf",
   "metadata": {},
   "source": [
    "## Test numba"
   ]
  },
  {
   "cell_type": "code",
   "execution_count": 11,
   "id": "73da642d-0a7b-45f3-8f78-8c65306a5b07",
   "metadata": {},
   "outputs": [],
   "source": [
    "@jit(nopython=True,parallel=True) # Set \"nopython\" mode for best performance, equivalent to @njit\n",
    "def Hist_numba(trials):\n",
    "\n",
    "    # Vectorized version, much faster (Annual interest from 40% to 70% random normal)\n",
    "    distribution = 1 + np.random.normal(0.4, 0.7, (12, trials)) / 12\n",
    "    interest = np.arange(12, 0, -1).reshape(-1,1)\n",
    "    res = (10 * np.power(distribution,interest)).sum(axis=0)\n",
    "\n",
    "    return res"
   ]
  },
  {
   "cell_type": "code",
   "execution_count": 12,
   "id": "04953a51-76e2-41e1-ab78-12712803c7c8",
   "metadata": {},
   "outputs": [
    {
     "data": {
      "application/vnd.jupyter.widget-view+json": {
       "model_id": "e4dc9c0964a4437aa7d5570a67d83d36",
       "version_major": 2,
       "version_minor": 0
      },
      "text/plain": [
       "  0%|          | 0/6 [00:00<?, ?it/s]"
      ]
     },
     "metadata": {},
     "output_type": "display_data"
    },
    {
     "data": {
      "application/vnd.jupyter.widget-view+json": {
       "model_id": "c8b2d7878478416e8aed92d10aa1228f",
       "version_major": 2,
       "version_minor": 0
      },
      "text/plain": [
       "  0%|          | 0/50 [00:00<?, ?it/s]"
      ]
     },
     "metadata": {},
     "output_type": "display_data"
    },
    {
     "data": {
      "application/vnd.jupyter.widget-view+json": {
       "model_id": "6e8d4057241e4b69bba94d5b4364769d",
       "version_major": 2,
       "version_minor": 0
      },
      "text/plain": [
       "  0%|          | 0/50 [00:00<?, ?it/s]"
      ]
     },
     "metadata": {},
     "output_type": "display_data"
    },
    {
     "data": {
      "application/vnd.jupyter.widget-view+json": {
       "model_id": "73270de030764cde8a495eff56ce01ef",
       "version_major": 2,
       "version_minor": 0
      },
      "text/plain": [
       "  0%|          | 0/50 [00:00<?, ?it/s]"
      ]
     },
     "metadata": {},
     "output_type": "display_data"
    },
    {
     "data": {
      "application/vnd.jupyter.widget-view+json": {
       "model_id": "c4f5fc48a2f54b15b3ab982d44985d4e",
       "version_major": 2,
       "version_minor": 0
      },
      "text/plain": [
       "  0%|          | 0/50 [00:00<?, ?it/s]"
      ]
     },
     "metadata": {},
     "output_type": "display_data"
    },
    {
     "data": {
      "application/vnd.jupyter.widget-view+json": {
       "model_id": "8e6005002c884119a9be2cf1cf37cc1e",
       "version_major": 2,
       "version_minor": 0
      },
      "text/plain": [
       "  0%|          | 0/50 [00:00<?, ?it/s]"
      ]
     },
     "metadata": {},
     "output_type": "display_data"
    },
    {
     "data": {
      "application/vnd.jupyter.widget-view+json": {
       "model_id": "374c08eea01f406992a33aae2e33bb05",
       "version_major": 2,
       "version_minor": 0
      },
      "text/plain": [
       "  0%|          | 0/50 [00:00<?, ?it/s]"
      ]
     },
     "metadata": {},
     "output_type": "display_data"
    }
   ],
   "source": [
    "numba_timing = test_time(Hist_numba)"
   ]
  },
  {
   "cell_type": "code",
   "execution_count": 13,
   "id": "942944e1-a016-4c7f-989f-2777cb958027",
   "metadata": {},
   "outputs": [],
   "source": [
    "df = pd.DataFrame(numba_timing)\n",
    "numba_df = pd.concat([pd.Series(df.mean(), name=\"numba_mean\"), pd.Series(df.std(), name=\"numba_std\")],axis=1)"
   ]
  },
  {
   "cell_type": "markdown",
   "id": "8102d13d-41fd-42b9-a2b2-ff9cf02141e8",
   "metadata": {},
   "source": [
    "## Plot results"
   ]
  },
  {
   "cell_type": "code",
   "execution_count": 16,
   "id": "89f8e44e-0e77-4108-8bad-7588949d260a",
   "metadata": {},
   "outputs": [],
   "source": [
    "df = pd.concat([numpy_df, numexpr_df,numba_df], axis=1)\n",
    "# Add difference between NumExpr and Numba\n",
    "df[\"Delta\"] = df.numexpr_mean-df.numba_mean\n",
    "df[\"Delta %\"] = (df.Delta/df.numexpr_mean)*100"
   ]
  },
  {
   "cell_type": "code",
   "execution_count": 34,
   "id": "7d57e095-b5c7-4f87-b067-4339baff230d",
   "metadata": {},
   "outputs": [
    {
     "data": {
      "image/png": "[encoded data removed]",
      "text/plain": [
       "<Figure size 1800x900 with 1 Axes>"
      ]
     },
     "metadata": {},
     "output_type": "display_data"
    }
   ],
   "source": [
    "params = {'legend.fontsize': 'x-large',\n",
    "          'figure.figsize': (18, 9),\n",
    "         'axes.labelsize': 'x-large',\n",
    "         'axes.titlesize':'x-large',\n",
    "         'xtick.labelsize':'x-large',\n",
    "         'ytick.labelsize':'x-large'}\n",
    "plt.rcParams.update(params)\n",
    "plt.style.use('dark_background')\n",
    "plt.plot(df.numba_mean, c=\"r\", label=\"numba\")\n",
    "plt.plot(df.numexpr_mean, c=\"b\", label=\"numexpr\")\n",
    "plt.plot(df.numpy_mean, c=\"g\", label=\"numpy\")\n",
    "plt.title(\"Comparison among numpy, numexpr, and numba execution time\", fontdict={\"fontsize\":18})\n",
    "plt.xlabel(\"Number of iterations\", fontdict={\"fontsize\":18})\n",
    "plt.ylabel(\"Time in seconds\", fontdict={\"fontsize\":18})\n",
    "plt.legend()\n",
    "plt.tight_layout()\n",
    "plt.savefig(\"comparison.png\")\n",
    "plt.show()"
   ]
  },
  {
   "cell_type": "code",
   "execution_count": 33,
   "id": "9e6030a4-f842-44f1-964f-4886f6334393",
   "metadata": {},
   "outputs": [
    {
     "data": {
      "text/html": [
       "<table border=\"1\" class=\"dataframe\">\n",
       "  <thead>\n",
       "    <tr style=\"text-align: right;\">\n",
       "      <th></th>\n",
       "      <th>numpy_mean</th>\n",
       "      <th>numpy_std</th>\n",
       "      <th>numexpr_mean</th>\n",
       "      <th>numexpr_std</th>\n",
       "      <th>numba_mean</th>\n",
       "      <th>numba_std</th>\n",
       "      <th>Delta</th>\n",
       "      <th>Delta %</th>\n",
       "    </tr>\n",
       "  </thead>\n",
       "  <tbody>\n",
       "    <tr>\n",
       "      <th>100</th>\n",
       "      <td>0.000161</td>\n",
       "      <td>0.000135</td>\n",
       "      <td>0.000190</td>\n",
       "      <td>0.000153</td>\n",
       "      <td>0.054950</td>\n",
       "      <td>0.387602</td>\n",
       "      <td>-0.054760</td>\n",
       "      <td>-28892.283888</td>\n",
       "    </tr>\n",
       "    <tr>\n",
       "      <th>1000</th>\n",
       "      <td>0.000703</td>\n",
       "      <td>0.000127</td>\n",
       "      <td>0.000687</td>\n",
       "      <td>0.000076</td>\n",
       "      <td>0.000407</td>\n",
       "      <td>0.000126</td>\n",
       "      <td>0.000280</td>\n",
       "      <td>40.772931</td>\n",
       "    </tr>\n",
       "    <tr>\n",
       "      <th>10000</th>\n",
       "      <td>0.006341</td>\n",
       "      <td>0.000231</td>\n",
       "      <td>0.006060</td>\n",
       "      <td>0.000046</td>\n",
       "      <td>0.002381</td>\n",
       "      <td>0.000382</td>\n",
       "      <td>0.003679</td>\n",
       "      <td>60.712667</td>\n",
       "    </tr>\n",
       "    <tr>\n",
       "      <th>100000</th>\n",
       "      <td>0.063277</td>\n",
       "      <td>0.001100</td>\n",
       "      <td>0.060028</td>\n",
       "      <td>0.001089</td>\n",
       "      <td>0.020787</td>\n",
       "      <td>0.001920</td>\n",
       "      <td>0.039241</td>\n",
       "      <td>65.370916</td>\n",
       "    </tr>\n",
       "    <tr>\n",
       "      <th>1000000</th>\n",
       "      <td>0.652204</td>\n",
       "      <td>0.008045</td>\n",
       "      <td>0.606476</td>\n",
       "      <td>0.002097</td>\n",
       "      <td>0.189293</td>\n",
       "      <td>0.018253</td>\n",
       "      <td>0.417183</td>\n",
       "      <td>68.788008</td>\n",
       "    </tr>\n",
       "    <tr>\n",
       "      <th>10000000</th>\n",
       "      <td>7.166785</td>\n",
       "      <td>0.014803</td>\n",
       "      <td>6.398878</td>\n",
       "      <td>0.011248</td>\n",
       "      <td>1.806638</td>\n",
       "      <td>0.064650</td>\n",
       "      <td>4.592240</td>\n",
       "      <td>71.766331</td>\n",
       "    </tr>\n",
       "  </tbody>\n",
       "</table>"
      ]
     },
     "metadata": {},
     "output_type": "display_data"
    }
   ],
   "source": [
    "# Export dadatframe\n",
    "table = df.to_html()\n",
    "display_html(table, raw=True)"
   ]
  },
  {
   "cell_type": "code",
   "execution_count": null,
   "id": "5a15f076-0b15-45de-b333-524fd222faf1",
   "metadata": {},
   "outputs": [],
   "source": []
  }
 ],
 "metadata": {
  "kernelspec": {
   "display_name": "mscfe",
   "language": "python",
   "name": "mscfe"
  },
  "language_info": {
   "codemirror_mode": {
    "name": "ipython",
    "version": 3
   },
   "file_extension": ".py",
   "mimetype": "text/x-python",
   "name": "python",
   "nbconvert_exporter": "python",
   "pygments_lexer": "ipython3",
   "version": "3.9.13"
  }
 },
 "nbformat": 4,
 "nbformat_minor": 5
}
